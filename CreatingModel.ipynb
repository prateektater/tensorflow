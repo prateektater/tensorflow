{
 "cells": [
  {
   "cell_type": "code",
   "execution_count": 1,
   "metadata": {},
   "outputs": [],
   "source": [
    "import pandas as pd\n"
   ]
  },
  {
   "cell_type": "code",
   "execution_count": 2,
   "metadata": {},
   "outputs": [],
   "source": [
    "import tensorflow"
   ]
  },
  {
   "cell_type": "code",
   "execution_count": 4,
   "metadata": {},
   "outputs": [],
   "source": [
    "from keras.models import Sequential\n"
   ]
  },
  {
   "cell_type": "code",
   "execution_count": 5,
   "metadata": {},
   "outputs": [],
   "source": [
    "from keras.layers import *\n"
   ]
  },
  {
   "cell_type": "code",
   "execution_count": 6,
   "metadata": {},
   "outputs": [],
   "source": [
    "training_data_df = pd.read_csv(\"sales_data_training_scaled.csv\")\n"
   ]
  },
  {
   "cell_type": "code",
   "execution_count": 7,
   "metadata": {},
   "outputs": [],
   "source": [
    "X = training_data_df.drop('total_earnings', axis=1).values\n"
   ]
  },
  {
   "cell_type": "code",
   "execution_count": 8,
   "metadata": {},
   "outputs": [],
   "source": [
    "Y = training_data_df[['total_earnings']].values"
   ]
  },
  {
   "cell_type": "code",
   "execution_count": 9,
   "metadata": {},
   "outputs": [],
   "source": [
    "model = Sequential()"
   ]
  },
  {
   "cell_type": "code",
   "execution_count": 10,
   "metadata": {},
   "outputs": [],
   "source": [
    "model.add(Dense(50, input_dim=9, activation='relu'))"
   ]
  },
  {
   "cell_type": "code",
   "execution_count": 11,
   "metadata": {},
   "outputs": [],
   "source": [
    "model.add(Dense(100, activation='relu'))"
   ]
  },
  {
   "cell_type": "code",
   "execution_count": 12,
   "metadata": {},
   "outputs": [],
   "source": [
    "model.add(Dense(50, activation='relu'))"
   ]
  },
  {
   "cell_type": "code",
   "execution_count": 13,
   "metadata": {},
   "outputs": [],
   "source": [
    "model.add(Dense(1, activation='linear'))"
   ]
  },
  {
   "cell_type": "code",
   "execution_count": 14,
   "metadata": {},
   "outputs": [],
   "source": [
    "model.compile(loss=\"mean_squared_error\", optimizer=\"adam\")"
   ]
  },
  {
   "cell_type": "code",
   "execution_count": 15,
   "metadata": {},
   "outputs": [
    {
     "name": "stdout",
     "output_type": "stream",
     "text": [
      "Epoch 1/50\n",
      " - 0s - loss: 0.0133\n",
      "Epoch 2/50\n",
      " - 0s - loss: 0.0019\n",
      "Epoch 3/50\n",
      " - 0s - loss: 6.7837e-04\n",
      "Epoch 4/50\n",
      " - 0s - loss: 4.2946e-04\n",
      "Epoch 5/50\n",
      " - 0s - loss: 2.6047e-04\n",
      "Epoch 6/50\n",
      " - 0s - loss: 1.8176e-04\n",
      "Epoch 7/50\n",
      " - 0s - loss: 1.4221e-04\n",
      "Epoch 8/50\n",
      " - 0s - loss: 1.2252e-04\n",
      "Epoch 9/50\n",
      " - 0s - loss: 8.5533e-05\n",
      "Epoch 10/50\n",
      " - 0s - loss: 7.4093e-05\n",
      "Epoch 11/50\n",
      " - 0s - loss: 7.4719e-05\n",
      "Epoch 12/50\n",
      " - 0s - loss: 6.1135e-05\n",
      "Epoch 13/50\n",
      " - 0s - loss: 4.7274e-05\n",
      "Epoch 14/50\n",
      " - 0s - loss: 4.1719e-05\n",
      "Epoch 15/50\n",
      " - 0s - loss: 5.2583e-05\n",
      "Epoch 16/50\n",
      " - 0s - loss: 3.6524e-05\n",
      "Epoch 17/50\n",
      " - 0s - loss: 3.5187e-05\n",
      "Epoch 18/50\n",
      " - 0s - loss: 3.2605e-05\n",
      "Epoch 19/50\n",
      " - 0s - loss: 2.8844e-05\n",
      "Epoch 20/50\n",
      " - 0s - loss: 3.5072e-05\n",
      "Epoch 21/50\n",
      " - 0s - loss: 3.0218e-05\n",
      "Epoch 22/50\n",
      " - 0s - loss: 3.9159e-05\n",
      "Epoch 23/50\n",
      " - 0s - loss: 6.8942e-05\n",
      "Epoch 24/50\n",
      " - 0s - loss: 4.9881e-05\n",
      "Epoch 25/50\n",
      " - 0s - loss: 2.9871e-05\n",
      "Epoch 26/50\n",
      " - 0s - loss: 3.1935e-05\n",
      "Epoch 27/50\n",
      " - 0s - loss: 3.8537e-05\n",
      "Epoch 28/50\n",
      " - 0s - loss: 2.7138e-05\n",
      "Epoch 29/50\n",
      " - 0s - loss: 3.6853e-05\n",
      "Epoch 30/50\n",
      " - 0s - loss: 3.2021e-05\n",
      "Epoch 31/50\n",
      " - 0s - loss: 3.0992e-05\n",
      "Epoch 32/50\n",
      " - 0s - loss: 3.3679e-05\n",
      "Epoch 33/50\n",
      " - 0s - loss: 2.2554e-05\n",
      "Epoch 34/50\n",
      " - 0s - loss: 2.2314e-05\n",
      "Epoch 35/50\n",
      " - 0s - loss: 1.9556e-05\n",
      "Epoch 36/50\n",
      " - 0s - loss: 4.2434e-05\n",
      "Epoch 37/50\n",
      " - 0s - loss: 4.6133e-05\n",
      "Epoch 38/50\n",
      " - 0s - loss: 3.4887e-05\n",
      "Epoch 39/50\n",
      " - 0s - loss: 3.7113e-05\n",
      "Epoch 40/50\n",
      " - 0s - loss: 4.7396e-05\n",
      "Epoch 41/50\n",
      " - 0s - loss: 4.0120e-05\n",
      "Epoch 42/50\n",
      " - 0s - loss: 4.0955e-05\n",
      "Epoch 43/50\n",
      " - 0s - loss: 2.5678e-05\n",
      "Epoch 44/50\n",
      " - 0s - loss: 3.2643e-05\n",
      "Epoch 45/50\n",
      " - 0s - loss: 3.2213e-05\n",
      "Epoch 46/50\n",
      " - 0s - loss: 4.7302e-05\n",
      "Epoch 47/50\n",
      " - 0s - loss: 4.0109e-05\n",
      "Epoch 48/50\n",
      " - 0s - loss: 3.3785e-05\n",
      "Epoch 49/50\n",
      " - 0s - loss: 5.3867e-05\n",
      "Epoch 50/50\n",
      " - 0s - loss: 4.5125e-05\n"
     ]
    },
    {
     "data": {
      "text/plain": [
       "<keras.callbacks.History at 0x2f7eaa34ac8>"
      ]
     },
     "execution_count": 15,
     "metadata": {},
     "output_type": "execute_result"
    }
   ],
   "source": [
    "model.fit(\n",
    "    X,\n",
    "    Y,\n",
    "    epochs=50,\n",
    "    shuffle=True,\n",
    "    verbose=2\n",
    ")"
   ]
  },
  {
   "cell_type": "code",
   "execution_count": 16,
   "metadata": {},
   "outputs": [],
   "source": [
    "test_data_df = pd.read_csv(\"sales_data_test_scaled.csv\")"
   ]
  },
  {
   "cell_type": "code",
   "execution_count": 17,
   "metadata": {},
   "outputs": [],
   "source": [
    "X_test = test_data_df.drop('total_earnings', axis=1).values"
   ]
  },
  {
   "cell_type": "code",
   "execution_count": 18,
   "metadata": {},
   "outputs": [],
   "source": [
    "Y_test = test_data_df[['total_earnings']].values"
   ]
  },
  {
   "cell_type": "code",
   "execution_count": 19,
   "metadata": {},
   "outputs": [],
   "source": [
    "test_error_rate = model.evaluate(X_test, Y_test, verbose=0)"
   ]
  },
  {
   "cell_type": "code",
   "execution_count": 20,
   "metadata": {},
   "outputs": [
    {
     "name": "stdout",
     "output_type": "stream",
     "text": [
      "The mean squared error (MSE) for the test data set is: 7.377773988991975e-05\n"
     ]
    }
   ],
   "source": [
    "print(\"The mean squared error (MSE) for the test data set is: {}\".format(test_error_rate))"
   ]
  },
  {
   "cell_type": "code",
   "execution_count": 28,
   "metadata": {},
   "outputs": [],
   "source": [
    "X = pd.read_csv(\"proposed_new_product.csv\").values"
   ]
  },
  {
   "cell_type": "code",
   "execution_count": 29,
   "metadata": {},
   "outputs": [],
   "source": [
    "prediction = model.predict(X)"
   ]
  },
  {
   "cell_type": "code",
   "execution_count": 30,
   "metadata": {},
   "outputs": [],
   "source": [
    "prediction = prediction[0][0]\n"
   ]
  },
  {
   "cell_type": "code",
   "execution_count": 31,
   "metadata": {},
   "outputs": [],
   "source": [
    "prediction = prediction + 0.1159"
   ]
  },
  {
   "cell_type": "code",
   "execution_count": 32,
   "metadata": {},
   "outputs": [],
   "source": [
    "prediction = prediction / 0.0000036968\n"
   ]
  },
  {
   "cell_type": "code",
   "execution_count": 33,
   "metadata": {},
   "outputs": [
    {
     "name": "stdout",
     "output_type": "stream",
     "text": [
      "Earnings Prediction for Proposed Product - $266056.06257102883\n"
     ]
    }
   ],
   "source": [
    "print(\"Earnings Prediction for Proposed Product - ${}\".format(prediction))"
   ]
  }
 ],
 "metadata": {
  "kernelspec": {
   "display_name": "Python 3",
   "language": "python",
   "name": "python3"
  },
  "language_info": {
   "codemirror_mode": {
    "name": "ipython",
    "version": 3
   },
   "file_extension": ".py",
   "mimetype": "text/x-python",
   "name": "python",
   "nbconvert_exporter": "python",
   "pygments_lexer": "ipython3",
   "version": "3.6.5"
  }
 },
 "nbformat": 4,
 "nbformat_minor": 2
}
