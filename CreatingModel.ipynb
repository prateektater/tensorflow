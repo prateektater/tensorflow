{
 "cells": [
  {
   "cell_type": "code",
   "execution_count": 2,
   "metadata": {},
   "outputs": [],
   "source": [
    "import pandas as pd\n"
   ]
  },
  {
   "cell_type": "code",
   "execution_count": 3,
   "metadata": {},
   "outputs": [],
   "source": [
    "import tensorflow"
   ]
  },
  {
   "cell_type": "code",
   "execution_count": 4,
   "metadata": {},
   "outputs": [
    {
     "name": "stderr",
     "output_type": "stream",
     "text": [
      "Using TensorFlow backend.\n"
     ]
    }
   ],
   "source": [
    "from keras.models import Sequential\n"
   ]
  },
  {
   "cell_type": "code",
   "execution_count": 5,
   "metadata": {},
   "outputs": [],
   "source": [
    "from keras.layers import *\n"
   ]
  },
  {
   "cell_type": "code",
   "execution_count": 6,
   "metadata": {},
   "outputs": [],
   "source": [
    "training_data_df = pd.read_csv(\"sales_data_training_scaled.csv\")\n"
   ]
  },
  {
   "cell_type": "code",
   "execution_count": 7,
   "metadata": {},
   "outputs": [],
   "source": [
    "X = training_data_df.drop('total_earnings', axis=1).values\n"
   ]
  },
  {
   "cell_type": "code",
   "execution_count": 8,
   "metadata": {},
   "outputs": [],
   "source": [
    "Y = training_data_df[['total_earnings']].values"
   ]
  },
  {
   "cell_type": "code",
   "execution_count": 9,
   "metadata": {},
   "outputs": [],
   "source": [
    "model = Sequential()"
   ]
  },
  {
   "cell_type": "code",
   "execution_count": 10,
   "metadata": {},
   "outputs": [],
   "source": [
    "model.add(Dense(50, input_dim=9, activation='relu'))"
   ]
  },
  {
   "cell_type": "code",
   "execution_count": 11,
   "metadata": {},
   "outputs": [],
   "source": [
    "model.add(Dense(100, activation='relu'))"
   ]
  },
  {
   "cell_type": "code",
   "execution_count": 12,
   "metadata": {},
   "outputs": [],
   "source": [
    "model.add(Dense(50, activation='relu'))"
   ]
  },
  {
   "cell_type": "code",
   "execution_count": 13,
   "metadata": {},
   "outputs": [],
   "source": [
    "model.add(Dense(1, activation='linear'))"
   ]
  },
  {
   "cell_type": "code",
   "execution_count": 14,
   "metadata": {},
   "outputs": [],
   "source": [
    "model.compile(loss=\"mean_squared_error\", optimizer=\"adam\")"
   ]
  },
  {
   "cell_type": "code",
   "execution_count": 15,
   "metadata": {},
   "outputs": [
    {
     "name": "stdout",
     "output_type": "stream",
     "text": [
      "Epoch 1/50\n",
      " - 0s - loss: 0.0288\n",
      "Epoch 2/50\n",
      " - 0s - loss: 0.0034\n",
      "Epoch 3/50\n",
      " - 0s - loss: 0.0010\n",
      "Epoch 4/50\n",
      " - 0s - loss: 5.7747e-04\n",
      "Epoch 5/50\n",
      " - 0s - loss: 3.4610e-04\n",
      "Epoch 6/50\n",
      " - 0s - loss: 2.2469e-04\n",
      "Epoch 7/50\n",
      " - 0s - loss: 1.6009e-04\n",
      "Epoch 8/50\n",
      " - 0s - loss: 1.2426e-04\n",
      "Epoch 9/50\n",
      " - 0s - loss: 1.0730e-04\n",
      "Epoch 10/50\n",
      " - 0s - loss: 9.2867e-05\n",
      "Epoch 11/50\n",
      " - 0s - loss: 7.7813e-05\n",
      "Epoch 12/50\n",
      " - 0s - loss: 7.0676e-05\n",
      "Epoch 13/50\n",
      " - 0s - loss: 6.3222e-05\n",
      "Epoch 14/50\n",
      " - 0s - loss: 5.2552e-05\n",
      "Epoch 15/50\n",
      " - 0s - loss: 5.9523e-05\n",
      "Epoch 16/50\n",
      " - 0s - loss: 4.7199e-05\n",
      "Epoch 17/50\n",
      " - 0s - loss: 4.2103e-05\n",
      "Epoch 18/50\n",
      " - 0s - loss: 4.3676e-05\n",
      "Epoch 19/50\n",
      " - 0s - loss: 3.4396e-05\n",
      "Epoch 20/50\n",
      " - 0s - loss: 3.7731e-05\n",
      "Epoch 21/50\n",
      " - 0s - loss: 3.5318e-05\n",
      "Epoch 22/50\n",
      " - 0s - loss: 3.1770e-05\n",
      "Epoch 23/50\n",
      " - 0s - loss: 3.2040e-05\n",
      "Epoch 24/50\n",
      " - 0s - loss: 3.8977e-05\n",
      "Epoch 25/50\n",
      " - 0s - loss: 3.0550e-05\n",
      "Epoch 26/50\n",
      " - 0s - loss: 2.8867e-05\n",
      "Epoch 27/50\n",
      " - 0s - loss: 2.5825e-05\n",
      "Epoch 28/50\n",
      " - 0s - loss: 3.3555e-05\n",
      "Epoch 29/50\n",
      " - 0s - loss: 2.4798e-05\n",
      "Epoch 30/50\n",
      " - 0s - loss: 2.3572e-05\n",
      "Epoch 31/50\n",
      " - 0s - loss: 2.0274e-05\n",
      "Epoch 32/50\n",
      " - 0s - loss: 2.0323e-05\n",
      "Epoch 33/50\n",
      " - 0s - loss: 2.3049e-05\n",
      "Epoch 34/50\n",
      " - 0s - loss: 2.1341e-05\n",
      "Epoch 35/50\n",
      " - 0s - loss: 2.3644e-05\n",
      "Epoch 36/50\n",
      " - 0s - loss: 2.1567e-05\n",
      "Epoch 37/50\n",
      " - 0s - loss: 2.4688e-05\n",
      "Epoch 38/50\n",
      " - 0s - loss: 2.1756e-05\n",
      "Epoch 39/50\n",
      " - 0s - loss: 2.3777e-05\n",
      "Epoch 40/50\n",
      " - 0s - loss: 2.3449e-05\n",
      "Epoch 41/50\n",
      " - 0s - loss: 2.9311e-05\n",
      "Epoch 42/50\n",
      " - 0s - loss: 2.6620e-05\n",
      "Epoch 43/50\n",
      " - 0s - loss: 3.2209e-05\n",
      "Epoch 44/50\n",
      " - 0s - loss: 1.9040e-05\n",
      "Epoch 45/50\n",
      " - 0s - loss: 2.5224e-05\n",
      "Epoch 46/50\n",
      " - 0s - loss: 2.4535e-05\n",
      "Epoch 47/50\n",
      " - 0s - loss: 2.1435e-05\n",
      "Epoch 48/50\n",
      " - 0s - loss: 2.7312e-05\n",
      "Epoch 49/50\n",
      " - 0s - loss: 2.2769e-05\n",
      "Epoch 50/50\n",
      " - 0s - loss: 2.9799e-05\n"
     ]
    },
    {
     "data": {
      "text/plain": [
       "<keras.callbacks.History at 0x2360cd77a58>"
      ]
     },
     "execution_count": 15,
     "metadata": {},
     "output_type": "execute_result"
    }
   ],
   "source": [
    "model.fit(\n",
    "    X,\n",
    "    Y,\n",
    "    epochs=50,\n",
    "    shuffle=True,\n",
    "    verbose=2\n",
    ")"
   ]
  },
  {
   "cell_type": "code",
   "execution_count": 16,
   "metadata": {},
   "outputs": [],
   "source": [
    "test_data_df = pd.read_csv(\"sales_data_test_scaled.csv\")"
   ]
  },
  {
   "cell_type": "code",
   "execution_count": 17,
   "metadata": {},
   "outputs": [],
   "source": [
    "X_test = test_data_df.drop('total_earnings', axis=1).values"
   ]
  },
  {
   "cell_type": "code",
   "execution_count": 18,
   "metadata": {},
   "outputs": [],
   "source": [
    "Y_test = test_data_df[['total_earnings']].values"
   ]
  },
  {
   "cell_type": "code",
   "execution_count": 19,
   "metadata": {},
   "outputs": [],
   "source": [
    "test_error_rate = model.evaluate(X_test, Y_test, verbose=0)"
   ]
  },
  {
   "cell_type": "code",
   "execution_count": 20,
   "metadata": {},
   "outputs": [
    {
     "name": "stdout",
     "output_type": "stream",
     "text": [
      "The mean squared error (MSE) for the test data set is: 7.573594644782134e-05\n"
     ]
    }
   ],
   "source": [
    "print(\"The mean squared error (MSE) for the test data set is: {}\".format(test_error_rate))"
   ]
  },
  {
   "cell_type": "code",
   "execution_count": 21,
   "metadata": {},
   "outputs": [],
   "source": [
    "model.save(\"trained_model.h5\")"
   ]
  },
  {
   "cell_type": "code",
   "execution_count": 22,
   "metadata": {},
   "outputs": [
    {
     "name": "stdout",
     "output_type": "stream",
     "text": [
      "Model saved to disk.\n"
     ]
    }
   ],
   "source": [
    "print(\"Model saved to disk.\")"
   ]
  },
  {
   "cell_type": "code",
   "execution_count": 23,
   "metadata": {},
   "outputs": [],
   "source": [
    "X = pd.read_csv(\"proposed_new_product.csv\").values"
   ]
  },
  {
   "cell_type": "code",
   "execution_count": 24,
   "metadata": {},
   "outputs": [],
   "source": [
    "prediction = model.predict(X)"
   ]
  },
  {
   "cell_type": "code",
   "execution_count": 25,
   "metadata": {},
   "outputs": [],
   "source": [
    "prediction = prediction[0][0]\n"
   ]
  },
  {
   "cell_type": "code",
   "execution_count": 26,
   "metadata": {},
   "outputs": [],
   "source": [
    "prediction = prediction + 0.1159"
   ]
  },
  {
   "cell_type": "code",
   "execution_count": 27,
   "metadata": {},
   "outputs": [],
   "source": [
    "prediction = prediction / 0.0000036968\n"
   ]
  },
  {
   "cell_type": "code",
   "execution_count": 28,
   "metadata": {},
   "outputs": [
    {
     "name": "stdout",
     "output_type": "stream",
     "text": [
      "Earnings Prediction for Proposed Product - $266150.787005149\n"
     ]
    }
   ],
   "source": [
    "print(\"Earnings Prediction for Proposed Product - ${}\".format(prediction))"
   ]
  }
 ],
 "metadata": {
  "kernelspec": {
   "display_name": "Python 3",
   "language": "python",
   "name": "python3"
  },
  "language_info": {
   "codemirror_mode": {
    "name": "ipython",
    "version": 3
   },
   "file_extension": ".py",
   "mimetype": "text/x-python",
   "name": "python",
   "nbconvert_exporter": "python",
   "pygments_lexer": "ipython3",
   "version": "3.6.5"
  }
 },
 "nbformat": 4,
 "nbformat_minor": 2
}
