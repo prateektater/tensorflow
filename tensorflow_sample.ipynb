{
 "cells": [
  {
   "cell_type": "code",
   "execution_count": 3,
   "metadata": {},
   "outputs": [],
   "source": [
    "import pandas as pd\n"
   ]
  },
  {
   "cell_type": "code",
   "execution_count": 4,
   "metadata": {},
   "outputs": [],
   "source": [
    "from sklearn.preprocessing import MinMaxScaler\n"
   ]
  },
  {
   "cell_type": "code",
   "execution_count": 5,
   "metadata": {},
   "outputs": [],
   "source": [
    "training_data_df = pd.read_csv(\"sales_data_training.csv\")\n"
   ]
  },
  {
   "cell_type": "code",
   "execution_count": 6,
   "metadata": {},
   "outputs": [],
   "source": [
    "test_data_df = pd.read_csv(\"sales_data_test.csv\")\n"
   ]
  },
  {
   "cell_type": "code",
   "execution_count": 7,
   "metadata": {},
   "outputs": [],
   "source": [
    "scaler = MinMaxScaler(feature_range=(0, 1))\n"
   ]
  },
  {
   "cell_type": "code",
   "execution_count": 11,
   "metadata": {},
   "outputs": [
    {
     "name": "stderr",
     "output_type": "stream",
     "text": [
      "c:\\users\\prateek\\appdata\\local\\programs\\python\\python36\\lib\\site-packages\\sklearn\\preprocessing\\data.py:323: DataConversionWarning: Data with input dtype int64, float64 were all converted to float64 by MinMaxScaler.\n",
      "  return self.partial_fit(X, y)\n"
     ]
    }
   ],
   "source": [
    "scaled_training = scaler.fit_transform(training_data_df)\n"
   ]
  },
  {
   "cell_type": "code",
   "execution_count": 12,
   "metadata": {},
   "outputs": [
    {
     "name": "stdout",
     "output_type": "stream",
     "text": [
      "[[0.5        1.         0.         ... 0.         0.37471396 1.        ]\n",
      " [0.83333333 0.         0.         ... 0.         0.19242528 0.5       ]\n",
      " [0.33333333 0.         0.         ... 0.         0.11485185 0.5       ]\n",
      " ...\n",
      " [0.83333333 0.         1.         ... 0.         0.61007375 1.        ]\n",
      " [0.5        1.         1.         ... 1.         0.24626902 0.        ]\n",
      " [0.33333333 1.         0.         ... 1.         0.21633242 0.5       ]]\n"
     ]
    }
   ],
   "source": [
    "print(scaled_training)"
   ]
  },
  {
   "cell_type": "code",
   "execution_count": null,
   "metadata": {},
   "outputs": [],
   "source": []
  },
  {
   "cell_type": "code",
   "execution_count": 9,
   "metadata": {},
   "outputs": [],
   "source": [
    "scaled_testing = scaler.transform(test_data_df)\n"
   ]
  },
  {
   "cell_type": "code",
   "execution_count": 10,
   "metadata": {},
   "outputs": [
    {
     "name": "stdout",
     "output_type": "stream",
     "text": [
      "Note: total_earnings values were scaled by multiplying by 0.0000036968 and adding -0.115913\n"
     ]
    }
   ],
   "source": [
    "print(\"Note: total_earnings values were scaled by multiplying by {:.10f} and adding {:.6f}\".format(scaler.scale_[8], scaler.min_[8]))\n"
   ]
  },
  {
   "cell_type": "code",
   "execution_count": 15,
   "metadata": {},
   "outputs": [],
   "source": [
    "scaled_training_df = pd.DataFrame(scaled_training, columns=training_data_df.columns.values)\n"
   ]
  },
  {
   "cell_type": "code",
   "execution_count": 16,
   "metadata": {},
   "outputs": [
    {
     "name": "stdout",
     "output_type": "stream",
     "text": [
      "     critic_rating  is_action  is_exclusive_to_us  is_portable  \\\n",
      "0         0.500000        1.0                 0.0          1.0   \n",
      "1         0.833333        0.0                 0.0          0.0   \n",
      "2         0.333333        0.0                 0.0          0.0   \n",
      "3         0.833333        1.0                 0.0          0.0   \n",
      "4         0.666667        1.0                 0.0          1.0   \n",
      "5         0.666667        0.0                 0.0          0.0   \n",
      "6         0.000000        1.0                 0.0          0.0   \n",
      "7         0.833333        0.0                 0.0          1.0   \n",
      "8         0.500000        0.0                 0.0          1.0   \n",
      "9         0.166667        1.0                 0.0          0.0   \n",
      "10        0.833333        1.0                 0.0          1.0   \n",
      "11        0.500000        0.0                 0.0          0.0   \n",
      "12        0.500000        0.0                 0.0          0.0   \n",
      "13        0.666667        0.0                 0.0          0.0   \n",
      "14        0.500000        0.0                 0.0          0.0   \n",
      "15        0.666667        0.0                 0.0          0.0   \n",
      "16        0.500000        1.0                 0.0          0.0   \n",
      "17        0.333333        1.0                 0.0          0.0   \n",
      "18        0.166667        1.0                 1.0          0.0   \n",
      "19        1.000000        1.0                 0.0          0.0   \n",
      "20        0.666667        0.0                 0.0          0.0   \n",
      "21        0.833333        0.0                 0.0          0.0   \n",
      "22        0.166667        0.0                 1.0          0.0   \n",
      "23        0.666667        1.0                 0.0          0.0   \n",
      "24        0.833333        1.0                 0.0          0.0   \n",
      "25        0.833333        0.0                 0.0          0.0   \n",
      "26        0.000000        0.0                 0.0          0.0   \n",
      "27        0.500000        1.0                 0.0          1.0   \n",
      "28        0.500000        0.0                 0.0          0.0   \n",
      "29        0.000000        1.0                 0.0          1.0   \n",
      "..             ...        ...                 ...          ...   \n",
      "970       0.500000        1.0                 0.0          0.0   \n",
      "971       0.333333        0.0                 1.0          1.0   \n",
      "972       0.333333        0.0                 0.0          0.0   \n",
      "973       0.666667        1.0                 0.0          1.0   \n",
      "974       0.666667        1.0                 0.0          1.0   \n",
      "975       0.666667        0.0                 0.0          0.0   \n",
      "976       0.833333        1.0                 0.0          0.0   \n",
      "977       0.166667        1.0                 0.0          0.0   \n",
      "978       0.000000        0.0                 0.0          0.0   \n",
      "979       0.500000        0.0                 0.0          1.0   \n",
      "980       0.666667        1.0                 0.0          0.0   \n",
      "981       0.166667        0.0                 0.0          0.0   \n",
      "982       0.833333        1.0                 1.0          0.0   \n",
      "983       0.500000        1.0                 0.0          1.0   \n",
      "984       0.333333        0.0                 0.0          0.0   \n",
      "985       0.333333        1.0                 1.0          0.0   \n",
      "986       0.666667        0.0                 1.0          0.0   \n",
      "987       0.833333        1.0                 0.0          0.0   \n",
      "988       0.666667        0.0                 0.0          1.0   \n",
      "989       0.666667        0.0                 0.0          0.0   \n",
      "990       0.833333        0.0                 0.0          1.0   \n",
      "991       0.666667        0.0                 0.0          1.0   \n",
      "992       0.666667        1.0                 0.0          0.0   \n",
      "993       0.500000        0.0                 0.0          0.0   \n",
      "994       1.000000        0.0                 0.0          0.0   \n",
      "995       0.666667        0.0                 0.0          0.0   \n",
      "996       0.000000        0.0                 1.0          0.0   \n",
      "997       0.833333        0.0                 1.0          0.0   \n",
      "998       0.500000        1.0                 1.0          0.0   \n",
      "999       0.333333        1.0                 0.0          0.0   \n",
      "\n",
      "     is_role_playing  is_sequel  is_sports  suitable_for_kids  total_earnings  \\\n",
      "0                0.0        1.0        0.0                0.0        0.374714   \n",
      "1                0.0        1.0        1.0                0.0        0.192425   \n",
      "2                0.0        1.0        1.0                0.0        0.114852   \n",
      "3                0.0        0.0        0.0                1.0        0.142452   \n",
      "4                0.0        1.0        0.0                1.0        0.480682   \n",
      "5                1.0        1.0        0.0                0.0        0.139720   \n",
      "6                0.0        1.0        0.0                0.0        0.113388   \n",
      "7                1.0        1.0        0.0                1.0        0.449067   \n",
      "8                0.0        0.0        1.0                0.0        0.061274   \n",
      "9                0.0        1.0        0.0                0.0        0.206680   \n",
      "10               0.0        1.0        0.0                0.0        0.477755   \n",
      "11               1.0        0.0        0.0                0.0        0.132327   \n",
      "12               1.0        1.0        0.0                0.0        0.179254   \n",
      "13               1.0        0.0        0.0                0.0        0.163357   \n",
      "14               1.0        1.0        0.0                0.0        0.239467   \n",
      "15               1.0        1.0        0.0                1.0        0.312068   \n",
      "16               0.0        1.0        0.0                0.0        0.228528   \n",
      "17               0.0        1.0        0.0                1.0        0.292745   \n",
      "18               0.0        1.0        0.0                0.0        0.348056   \n",
      "19               0.0        1.0        0.0                0.0        0.427992   \n",
      "20               0.0        1.0        1.0                0.0        0.224831   \n",
      "21               0.0        0.0        1.0                1.0        0.128024   \n",
      "22               1.0        1.0        0.0                1.0        0.401645   \n",
      "23               0.0        1.0        0.0                1.0        0.296342   \n",
      "24               0.0        1.0        0.0                1.0        0.248609   \n",
      "25               0.0        1.0        1.0                1.0        0.289233   \n",
      "26               1.0        1.0        0.0                1.0        0.062834   \n",
      "27               0.0        1.0        0.0                0.0        0.295366   \n",
      "28               1.0        1.0        0.0                1.0        0.269326   \n",
      "29               0.0        0.0        0.0                1.0        0.104608   \n",
      "..               ...        ...        ...                ...             ...   \n",
      "970              0.0        1.0        0.0                0.0        0.153380   \n",
      "971              1.0        1.0        0.0                0.0        0.410506   \n",
      "972              0.0        1.0        1.0                0.0        0.162770   \n",
      "973              0.0        1.0        0.0                0.0        0.422136   \n",
      "974              0.0        1.0        0.0                0.0        0.242757   \n",
      "975              1.0        1.0        0.0                0.0        0.271082   \n",
      "976              0.0        1.0        0.0                0.0        0.383494   \n",
      "977              0.0        1.0        0.0                1.0        0.244151   \n",
      "978              1.0        0.0        0.0                0.0        0.029475   \n",
      "979              0.0        0.0        1.0                1.0        0.173309   \n",
      "980              0.0        1.0        0.0                0.0        0.338411   \n",
      "981              1.0        1.0        0.0                1.0        0.183849   \n",
      "982              0.0        1.0        0.0                0.0        0.441020   \n",
      "983              0.0        0.0        0.0                1.0        0.269326   \n",
      "984              1.0        1.0        0.0                0.0        0.197312   \n",
      "985              0.0        1.0        0.0                1.0        0.576699   \n",
      "986              1.0        1.0        0.0                0.0        0.547428   \n",
      "987              0.0        1.0        0.0                0.0        0.381154   \n",
      "988              1.0        1.0        0.0                0.0        0.344267   \n",
      "989              1.0        1.0        0.0                1.0        0.310308   \n",
      "990              1.0        1.0        0.0                0.0        0.220118   \n",
      "991              1.0        1.0        0.0                0.0        0.276339   \n",
      "992              0.0        1.0        0.0                0.0        0.341927   \n",
      "993              1.0        1.0        0.0                0.0        0.234199   \n",
      "994              0.0        0.0        1.0                0.0        0.169797   \n",
      "995              1.0        1.0        0.0                0.0        0.275182   \n",
      "996              1.0        0.0        0.0                1.0        0.203168   \n",
      "997              1.0        1.0        0.0                0.0        0.610074   \n",
      "998              0.0        0.0        0.0                1.0        0.246269   \n",
      "999              0.0        1.0        0.0                1.0        0.216332   \n",
      "\n",
      "     unit_price  \n",
      "0           1.0  \n",
      "1           0.5  \n",
      "2           0.5  \n",
      "3           0.0  \n",
      "4           1.0  \n",
      "5           0.0  \n",
      "6           0.5  \n",
      "7           1.0  \n",
      "8           0.0  \n",
      "9           1.0  \n",
      "10          1.0  \n",
      "11          1.0  \n",
      "12          0.5  \n",
      "13          1.0  \n",
      "14          1.0  \n",
      "15          1.0  \n",
      "16          0.5  \n",
      "17          1.0  \n",
      "18          0.5  \n",
      "19          1.0  \n",
      "20          1.0  \n",
      "21          0.5  \n",
      "22          1.0  \n",
      "23          0.5  \n",
      "24          0.0  \n",
      "25          1.0  \n",
      "26          0.0  \n",
      "27          0.5  \n",
      "28          1.0  \n",
      "29          0.5  \n",
      "..          ...  \n",
      "970         0.0  \n",
      "971         0.5  \n",
      "972         1.0  \n",
      "973         1.0  \n",
      "974         0.0  \n",
      "975         1.0  \n",
      "976         1.0  \n",
      "977         1.0  \n",
      "978         0.5  \n",
      "979         1.0  \n",
      "980         1.0  \n",
      "981         1.0  \n",
      "982         0.0  \n",
      "983         1.0  \n",
      "984         1.0  \n",
      "985         1.0  \n",
      "986         1.0  \n",
      "987         1.0  \n",
      "988         1.0  \n",
      "989         1.0  \n",
      "990         0.0  \n",
      "991         0.5  \n",
      "992         1.0  \n",
      "993         1.0  \n",
      "994         1.0  \n",
      "995         1.0  \n",
      "996         1.0  \n",
      "997         1.0  \n",
      "998         0.0  \n",
      "999         0.5  \n",
      "\n",
      "[1000 rows x 10 columns]\n"
     ]
    }
   ],
   "source": [
    "print(scaled_training_df)"
   ]
  },
  {
   "cell_type": "code",
   "execution_count": null,
   "metadata": {},
   "outputs": [],
   "source": []
  },
  {
   "cell_type": "code",
   "execution_count": 14,
   "metadata": {},
   "outputs": [],
   "source": [
    "scaled_testing_df = pd.DataFrame(scaled_testing, columns=test_data_df.columns.values)\n"
   ]
  },
  {
   "cell_type": "code",
   "execution_count": 17,
   "metadata": {},
   "outputs": [],
   "source": [
    "scaled_training_df.to_csv(\"sales_data_training_scaled.csv\", index=False)"
   ]
  },
  {
   "cell_type": "code",
   "execution_count": 18,
   "metadata": {},
   "outputs": [],
   "source": [
    "scaled_testing_df.to_csv(\"sales_data_testing_scaled.csv\", index=False)"
   ]
  },
  {
   "cell_type": "code",
   "execution_count": null,
   "metadata": {},
   "outputs": [],
   "source": []
  }
 ],
 "metadata": {
  "kernelspec": {
   "display_name": "Python 3",
   "language": "python",
   "name": "python3"
  },
  "language_info": {
   "codemirror_mode": {
    "name": "ipython",
    "version": 3
   },
   "file_extension": ".py",
   "mimetype": "text/x-python",
   "name": "python",
   "nbconvert_exporter": "python",
   "pygments_lexer": "ipython3",
   "version": "3.6.5"
  }
 },
 "nbformat": 4,
 "nbformat_minor": 2
}
